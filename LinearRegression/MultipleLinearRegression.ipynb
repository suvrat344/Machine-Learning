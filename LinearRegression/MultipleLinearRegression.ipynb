{
 "cells": [
  {
   "cell_type": "markdown",
   "id": "e5e8aaca",
   "metadata": {},
   "source": [
    "## MultipleLinearRegression1"
   ]
  },
  {
   "cell_type": "code",
   "execution_count": null,
   "id": "96296cc8",
   "metadata": {},
   "outputs": [],
   "source": [
    "# Importing Packaging\n",
    "import numpy as np\n",
    "import pandas as pd\n",
    "import matplotlib.pyplot as plt\n",
    "import seaborn as sns\n",
    "from sklearn.linear_model import LinearRegression\n",
    "from sklearn.model_selection import train_test_split\n",
    "from sklearn.metrics import r2_score,mean_squared_error"
   ]
  },
  {
   "cell_type": "code",
   "execution_count": null,
   "id": "a14d892c",
   "metadata": {},
   "outputs": [],
   "source": [
    "# Import Dataset\n",
    "df = pd.read_csv(\"GPA.csv\")"
   ]
  },
  {
   "cell_type": "code",
   "execution_count": null,
   "id": "353f0c03",
   "metadata": {},
   "outputs": [],
   "source": [
    "# Display Top 5 Rows\n",
    "df.head()"
   ]
  },
  {
   "cell_type": "code",
   "execution_count": null,
   "id": "62fed0ed",
   "metadata": {},
   "outputs": [],
   "source": [
    "# Display Last 5 Rows\n",
    "df.tail()"
   ]
  },
  {
   "cell_type": "code",
   "execution_count": null,
   "id": "57230374",
   "metadata": {},
   "outputs": [],
   "source": [
    "# Get Information About The DataSet\n",
    "df.info()"
   ]
  },
  {
   "cell_type": "code",
   "execution_count": null,
   "id": "62b1a3d5",
   "metadata": {},
   "outputs": [],
   "source": [
    "# Get Shape Of The Dataset\n",
    "df.shape"
   ]
  },
  {
   "cell_type": "code",
   "execution_count": null,
   "id": "c1763285",
   "metadata": {},
   "outputs": [],
   "source": [
    "# Check Whether There Is a Linear Pattern Between X And Y\n",
    "sns.pairplot(df)\n",
    "plt.show()"
   ]
  },
  {
   "cell_type": "code",
   "execution_count": null,
   "id": "e3e9b981",
   "metadata": {},
   "outputs": [],
   "source": [
    "# Getting The Explanatory Variable(X) And Target Variable(Y)\n",
    "X = df.iloc[:,:2]\n",
    "Y = df.iloc[:,2:]"
   ]
  },
  {
   "cell_type": "code",
   "execution_count": null,
   "id": "95187178",
   "metadata": {},
   "outputs": [],
   "source": [
    "# Fit The Linear Regression Model\n",
    "lr = LinearRegression()\n",
    "lr.fit(X,Y)"
   ]
  },
  {
   "cell_type": "code",
   "execution_count": null,
   "id": "348610f5",
   "metadata": {},
   "outputs": [],
   "source": [
    "# Get Regression Parameter And Regression Line\n",
    "m = lr.coef_\n",
    "c = lr.intercept_\n",
    "print(f\"Slope = {round(m[0][0],4),round(m[0][1],4)} and Intercept = {round(c[0],4)}\")\n",
    "print(f\"Regression Line y={round(m[0][0],4)}*x1+{round(m[0][1],4)}*x2+{round(c[0],4)}\")"
   ]
  },
  {
   "cell_type": "code",
   "execution_count": null,
   "id": "e3af732f",
   "metadata": {},
   "outputs": [],
   "source": [
    "# Predict The Output On Test Data\n",
    "Y_pred = lr.predict(X)"
   ]
  },
  {
   "cell_type": "code",
   "execution_count": null,
   "id": "91b08c11",
   "metadata": {},
   "outputs": [],
   "source": [
    "# Get Performance Metrics\n",
    "print(\"Root Mean Squared Error : \",round(np.sqrt(mean_squared_error(Y,Y_pred)),4))\n",
    "print(\"R2 Square Error : \",round(r2_score(Y,Y_pred),4))\n",
    "print(\"Adjusted R2 : \",round(1 - (1-r2_score(Y,Y_pred)) * (df.shape[0]-1)/(df.shape[0]-2-1),4))"
   ]
  },
  {
   "cell_type": "markdown",
   "id": "1b32f587",
   "metadata": {},
   "source": [
    "## MultipleLinearRegression2"
   ]
  },
  {
   "cell_type": "code",
   "execution_count": null,
   "id": "167e8e89",
   "metadata": {},
   "outputs": [],
   "source": [
    "# Importing Dataset\n",
    "df = pd.read_csv(\"Profit.csv\")"
   ]
  },
  {
   "cell_type": "code",
   "execution_count": null,
   "id": "8325e467",
   "metadata": {},
   "outputs": [],
   "source": [
    "# Display Top 5 Rows\n",
    "df.head()"
   ]
  },
  {
   "cell_type": "code",
   "execution_count": null,
   "id": "c99f1cfc",
   "metadata": {},
   "outputs": [],
   "source": [
    "# Display Last 5 Rows\n",
    "df.tail()"
   ]
  },
  {
   "cell_type": "code",
   "execution_count": null,
   "id": "9b1b91fe",
   "metadata": {},
   "outputs": [],
   "source": [
    "# Get Information About The DataSet\n",
    "df.info()"
   ]
  },
  {
   "cell_type": "code",
   "execution_count": null,
   "id": "5934b4d1",
   "metadata": {},
   "outputs": [],
   "source": [
    "# Get Shape Of The Dataset\n",
    "df.shape"
   ]
  },
  {
   "cell_type": "code",
   "execution_count": null,
   "id": "2cbeebd4",
   "metadata": {},
   "outputs": [],
   "source": [
    "# Check Whether There Is a Linear Pattern Between X And Y\n",
    "sns.pairplot(df)"
   ]
  },
  {
   "cell_type": "code",
   "execution_count": null,
   "id": "34b4d41f",
   "metadata": {},
   "outputs": [],
   "source": [
    "# Getting The Explanatory Variable(X) And Target Variable(Y)\n",
    "X = df.iloc[:,:5]\n",
    "Y = df.iloc[:,5:]"
   ]
  },
  {
   "cell_type": "code",
   "execution_count": null,
   "id": "9d88b56f",
   "metadata": {},
   "outputs": [],
   "source": [
    "# Split Data Into Train And Test Data\n",
    "X_train,X_test,Y_train,Y_test = train_test_split(X,Y,test_size=0.2,random_state=0)"
   ]
  },
  {
   "cell_type": "code",
   "execution_count": null,
   "id": "2b53e455",
   "metadata": {},
   "outputs": [],
   "source": [
    "# Fit The Linear Regression Model\n",
    "lr = LinearRegression()\n",
    "lr.fit(X_train,Y_train)"
   ]
  },
  {
   "cell_type": "code",
   "execution_count": null,
   "id": "93a3e551",
   "metadata": {},
   "outputs": [],
   "source": [
    "# Get Regression Parameter\n",
    "m = lr.coef_\n",
    "c = lr.intercept_\n",
    "print(f\"Slope = {m} and Intercept = {c}\")"
   ]
  },
  {
   "cell_type": "code",
   "execution_count": null,
   "id": "ac43ab5e",
   "metadata": {},
   "outputs": [],
   "source": [
    "# Predict The Output On Test Data\n",
    "Y_pred = lr.predict(X_test)"
   ]
  },
  {
   "cell_type": "code",
   "execution_count": null,
   "id": "7c37c99b",
   "metadata": {},
   "outputs": [],
   "source": [
    "# Getting Performance Metrics\n",
    "print(\"Root Mean Squared Error : \",round(np.sqrt(mean_squared_error(Y_test,Y_pred)),4))\n",
    "print(\"R2 Square Error : \",round(r2_score(Y_test,Y_pred),4))\n",
    "print(\"Adjusted R2 : \",round(1 - (1-r2_score(Y_test,Y_pred)) * (df.shape[0]-1)/(df.shape[0]-5-1),4))"
   ]
  }
 ],
 "metadata": {
  "kernelspec": {
   "display_name": "Python 3 (ipykernel)",
   "language": "python",
   "name": "python3"
  },
  "language_info": {
   "codemirror_mode": {
    "name": "ipython",
    "version": 3
   },
   "file_extension": ".py",
   "mimetype": "text/x-python",
   "name": "python",
   "nbconvert_exporter": "python",
   "pygments_lexer": "ipython3",
   "version": "3.11.5"
  }
 },
 "nbformat": 4,
 "nbformat_minor": 5
}
