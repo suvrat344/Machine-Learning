{
 "cells": [
  {
   "cell_type": "markdown",
   "id": "61b62477",
   "metadata": {},
   "source": [
    "## K-MeansClustering"
   ]
  },
  {
   "cell_type": "code",
   "execution_count": null,
   "id": "3f841111",
   "metadata": {},
   "outputs": [],
   "source": [
    "# Importing Packages\n",
    "import pandas as pd\n",
    "import numpy as np\n",
    "import matplotlib.pyplot as plt\n",
    "from sklearn.cluster import KMeans\n",
    "from sklearn.preprocessing import MinMaxScaler"
   ]
  },
  {
   "cell_type": "code",
   "execution_count": null,
   "id": "baf04abd",
   "metadata": {},
   "outputs": [],
   "source": [
    "# Import Dataset\n",
    "stockData = pd.read_csv(\"StockData.csv\")"
   ]
  },
  {
   "cell_type": "code",
   "execution_count": null,
   "id": "c1847e7c",
   "metadata": {},
   "outputs": [],
   "source": [
    "# Display Top 5 Rows\n",
    "stockData.head()"
   ]
  },
  {
   "cell_type": "code",
   "execution_count": null,
   "id": "142d1760",
   "metadata": {},
   "outputs": [],
   "source": [
    "stockData.shape"
   ]
  },
  {
   "cell_type": "code",
   "execution_count": null,
   "id": "e6100f4e",
   "metadata": {},
   "outputs": [],
   "source": [
    "# All % Column Were On A Scale Where 1 Meant 100% Except For Stock Returns.We Multiply All % Column(Except Returns) By 100\n",
    "stockData[\"Free Float Market Cap %\"] = stockData[\"Free Float Market Cap %\"] * 100\n",
    "stockData[\"RoE %\"] = stockData[\"RoE %\"] * 100\n",
    "stockData[\"RoCE %\"] = stockData[\"RoCE %\"] * 100\n",
    "stockData[\"EBIT Margin %\"] = stockData[\"EBIT Margin %\"] * 100\n",
    "stockData[\"PAT %\"] = stockData[\"PAT %\"] * 100"
   ]
  },
  {
   "cell_type": "code",
   "execution_count": null,
   "id": "f7d05a4c",
   "metadata": {},
   "outputs": [],
   "source": [
    "# Display Statistical Results\n",
    "stockData.describe()"
   ]
  },
  {
   "cell_type": "code",
   "execution_count": null,
   "id": "4e56dd38",
   "metadata": {},
   "outputs": [],
   "source": [
    "# Extract Features\n",
    "features = stockData.columns[2:]\n",
    "features"
   ]
  },
  {
   "cell_type": "code",
   "execution_count": null,
   "id": "898fe4e1",
   "metadata": {},
   "outputs": [],
   "source": [
    "# Normalize Features Before KMeans\n",
    "scaler = MinMaxScaler()\n",
    "stockDataFeatures_scaled = scaler.fit_transform(stockData[features])\n",
    "stockDataFeatures_scaled = pd.DataFrame(stockDataFeatures_scaled,columns=features)\n",
    "stockDataFeatures_scaled.describe()"
   ]
  },
  {
   "cell_type": "code",
   "execution_count": null,
   "id": "3f095251",
   "metadata": {},
   "outputs": [],
   "source": [
    "# Building The Model\n",
    "kmeans = KMeans(7)\n",
    "clus = kmeans.fit_predict(stockData[features])\n",
    "stockData[\"cluster\"] = clus\n",
    "stockData[\"cluster\"].value_counts()"
   ]
  },
  {
   "cell_type": "code",
   "execution_count": null,
   "id": "b1d0b90a",
   "metadata": {},
   "outputs": [],
   "source": [
    "# Description About The Cluster\n",
    "clusterDesc = pd.DataFrame(stockData.iloc[:,2:].groupby(\"cluster\").mean().round(3))\n",
    "clusterDesc.insert(0,'size',stockData[\"cluster\"].value_counts())\n",
    "clusterDesc"
   ]
  }
 ],
 "metadata": {
  "kernelspec": {
   "display_name": "Python 3 (ipykernel)",
   "language": "python",
   "name": "python3"
  },
  "language_info": {
   "codemirror_mode": {
    "name": "ipython",
    "version": 3
   },
   "file_extension": ".py",
   "mimetype": "text/x-python",
   "name": "python",
   "nbconvert_exporter": "python",
   "pygments_lexer": "ipython3",
   "version": "3.11.5"
  }
 },
 "nbformat": 4,
 "nbformat_minor": 5
}
