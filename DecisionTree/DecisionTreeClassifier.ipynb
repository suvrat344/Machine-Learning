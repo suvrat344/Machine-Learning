{
 "cells": [
  {
   "cell_type": "markdown",
   "id": "b6ac59b7",
   "metadata": {},
   "source": [
    "## DecisionTreeClassifier"
   ]
  },
  {
   "cell_type": "code",
   "execution_count": null,
   "id": "0b3708ee",
   "metadata": {},
   "outputs": [],
   "source": [
    "# pip install imblearn\n",
    "# pip install pydotplus"
   ]
  },
  {
   "cell_type": "code",
   "execution_count": null,
   "id": "610a1e59",
   "metadata": {},
   "outputs": [],
   "source": [
    "# Importing Packages\n",
    "\n",
    "import numpy as np\n",
    "import pandas as pd\n",
    "import matplotlib.pyplot as plt\n",
    "import seaborn as sns\n",
    "from sklearn.preprocessing import OrdinalEncoder,LabelEncoder,MinMaxScaler\n",
    "from imblearn.over_sampling import SMOTE\n",
    "from sklearn.model_selection import train_test_split\n",
    "from sklearn.tree import DecisionTreeClassifier\n",
    "from sklearn.metrics import accuracy_score,confusion_matrix,classification_report\n",
    "import pydotplus"
   ]
  },
  {
   "cell_type": "code",
   "execution_count": null,
   "id": "dd50e33d",
   "metadata": {},
   "outputs": [],
   "source": [
    "# Importing Dataset\n",
    "\n",
    "app_df = pd.read_csv(\"application_record.csv\")\n",
    "cr_df = pd.read_csv(\"credit_record.csv\")"
   ]
  },
  {
   "cell_type": "code",
   "execution_count": null,
   "id": "21d2c179",
   "metadata": {},
   "outputs": [],
   "source": [
    "# Display Top 5 Rows Of Application Record\n",
    "\n",
    "app_df.head()"
   ]
  },
  {
   "cell_type": "code",
   "execution_count": null,
   "id": "cfa1919e",
   "metadata": {},
   "outputs": [],
   "source": [
    "# Display Top 5 Rows Of Credit Record\n",
    "\n",
    "cr_df.head()"
   ]
  },
  {
   "cell_type": "code",
   "execution_count": null,
   "id": "a2499020",
   "metadata": {},
   "outputs": [],
   "source": [
    "# Check Shape of Application Record\n",
    "\n",
    "app_df.shape"
   ]
  },
  {
   "cell_type": "code",
   "execution_count": null,
   "id": "6e6526af",
   "metadata": {},
   "outputs": [],
   "source": [
    "# Check Shape of Credit Record\n",
    "\n",
    "cr_df.shape"
   ]
  },
  {
   "cell_type": "code",
   "execution_count": null,
   "id": "20cb9ec4",
   "metadata": {},
   "outputs": [],
   "source": [
    "# Preparing The Target Variable\n",
    "# 1. For customers having due for multiple months,the maximum number of months due is taken.\n",
    "# 2. Any ID with greater than equal to 1 months due is marked as Class'1'\n",
    "\n",
    "cr_df = cr_df.sort_values(['ID','MONTHS_BALANCE'],ascending = False)\n",
    "cr_df = cr_df.groupby(\"ID\").agg(max).reset_index()"
   ]
  },
  {
   "cell_type": "code",
   "execution_count": null,
   "id": "ed48e593",
   "metadata": {},
   "outputs": [],
   "source": [
    "# Status : 0 => 1-29 days overdue;1 => 30-59 days overdue;2 => 60-89 days overdue;3 => 90-119 days overdue;4 => 120-149 \n",
    "# days overdue;5 => overdue or bad debts,write offs for more than 150 days;C => paid off that month;X => No loan for the \n",
    "# month.\n",
    "\n",
    "cr_df[\"STATUS\"].replace({\"C\":0,\"X\":0},inplace=True)\n",
    "cr_df[\"STATUS\"] = cr_df[\"STATUS\"].astype(\"int\")\n",
    "cr_df[\"STATUS\"] = cr_df[\"STATUS\"].apply(lambda x:1 if x>0 else 0)"
   ]
  },
  {
   "cell_type": "code",
   "execution_count": null,
   "id": "617d821b",
   "metadata": {},
   "outputs": [],
   "source": [
    "# Merging Both Application And Credit Status Datasets\n",
    "\n",
    "df = app_df.join(cr_df.set_index(\"ID\"),on=\"ID\",how=\"inner\")"
   ]
  },
  {
   "cell_type": "code",
   "execution_count": null,
   "id": "613f12e3",
   "metadata": {},
   "outputs": [],
   "source": [
    "# Information About Dataset\n",
    "\n",
    "df.info()"
   ]
  },
  {
   "cell_type": "code",
   "execution_count": null,
   "id": "48548bd1",
   "metadata": {},
   "outputs": [],
   "source": [
    "# Get Null Value From The Dataset\n",
    "\n",
    "df.isnull().sum()"
   ]
  },
  {
   "cell_type": "code",
   "execution_count": null,
   "id": "35a805c3",
   "metadata": {},
   "outputs": [],
   "source": [
    "# Display Top 5 Rows Of Dataset\n",
    "\n",
    "df.head()"
   ]
  },
  {
   "cell_type": "code",
   "execution_count": null,
   "id": "927d9287",
   "metadata": {},
   "outputs": [],
   "source": [
    "# Different Type Of Features Based On Data Type\n",
    "\n",
    "binary_features = [\"CODE_GENDER\",\"FLAG_OWN_CAR\",\"FLAG_OWN_REALTY\",\"FLAG_WORK_PHONE\",\"FLAG_EMAIL\"]\n",
    "continuous_features = [\"CNT_CHILDREN\",\"AMT_INCOME_TOTAL\",\"DAYS_BIRTH\",\"DAYS_EMPLOYED\",\"CNT_FAM_MEMBERS\"]\n",
    "cat_features = [\"NAME_INCOME_TYPE\",\"NAME_EDUCATION_TYPE\",\"NAME_FAMILY_STATUS\",\"NAME_HOUSING_TYPE\"]"
   ]
  },
  {
   "cell_type": "code",
   "execution_count": null,
   "id": "bd3ae3a0",
   "metadata": {},
   "outputs": [],
   "source": [
    "# Dropping Features\n",
    "# 1. OCCUPATION_TYPE - Lot Of Missing Data (11323 Data Points)\n",
    "# 2. FLAG_MOBIL - All Datapoints Have The Flag Set To 1\n",
    "\n",
    "df.drop([\"MONTHS_BALANCE\",\"OCCUPATION_TYPE\",\"FLAG_MOBIL\"],inplace=True,axis=1)"
   ]
  },
  {
   "cell_type": "code",
   "execution_count": null,
   "id": "4ddae8a7",
   "metadata": {},
   "outputs": [],
   "source": [
    "# Ordering Ordinal Values And Encoding : We Have Determined The Order Of Income Type (A Qualitative Call) And Created The\n",
    "# Encoding Of The Variable \"NAME_INCOME_TYPE\"\n",
    "\n",
    "encoder = OrdinalEncoder(categories=[[\"Student\",\"Pensioner\",\"Working\",\"Commercial associate\",\"State servant\"]])\n",
    "df[\"NAME_INCOME_TYPE\"] = encoder.fit_transform(df[\"NAME_INCOME_TYPE\"].values.reshape(-1,1))"
   ]
  },
  {
   "cell_type": "code",
   "execution_count": null,
   "id": "00edd601",
   "metadata": {},
   "outputs": [],
   "source": [
    "# Encoding Ordinal Columns Without Ordering\n",
    "\n",
    "encoder2 = LabelEncoder()\n",
    "for i in cat_features[1:]:\n",
    "    df[i] = encoder2.fit_transform(df[i].values.reshape(-1,1))"
   ]
  },
  {
   "cell_type": "code",
   "execution_count": null,
   "id": "c27c587b",
   "metadata": {},
   "outputs": [],
   "source": [
    "# For Binary Features We Had Used Pandas Dummies For One Hot Encoding\n",
    "\n",
    "df = pd.get_dummies(df,columns=binary_features,drop_first=True)"
   ]
  },
  {
   "cell_type": "code",
   "execution_count": null,
   "id": "05647a5f",
   "metadata": {},
   "outputs": [],
   "source": [
    "# Plotting Different Variables To Get An Understanding Of Outlier Present\n",
    "\n",
    "fig,ax = plt.subplots(nrows=2,ncols=3,figsize=(14,6))\n",
    "sns.scatterplot(x=\"ID\",y=\"CNT_CHILDREN\",data=df,ax=ax[0][0],color=\"orange\")\n",
    "sns.scatterplot(x=\"ID\",y=\"AMT_INCOME_TOTAL\",data=df,ax=ax[0][1],color=\"orange\")\n",
    "sns.scatterplot(x=\"ID\",y=\"DAYS_BIRTH\",data=df,ax=ax[0][2])\n",
    "sns.scatterplot(x=\"ID\",y=\"DAYS_EMPLOYED\",data=df,ax=ax[1][0])\n",
    "sns.scatterplot(x=\"ID\",y=\"CNT_FAM_MEMBERS\",data=df,ax=ax[1][1],color=\"orange\")"
   ]
  },
  {
   "cell_type": "code",
   "execution_count": null,
   "id": "ff32396d",
   "metadata": {},
   "outputs": [],
   "source": [
    "# Removing Outlier Using IQR Technique\n",
    "\n",
    "q3 = df[\"AMT_INCOME_TOTAL\"].quantile(.75)\n",
    "q1 = df[\"AMT_INCOME_TOTAL\"].quantile(.25)\n",
    "IQR = q3 - q1\n",
    "lower_range = q1 - 1.5 * IQR\n",
    "upper_range = q3 + 1.5 * IQR\n",
    "df = df[(df[\"AMT_INCOME_TOTAL\"] > lower_range) & (df[\"AMT_INCOME_TOTAL\"] < upper_range)]\n",
    "df = df[df[\"CNT_CHILDREN\"] < 8]\n",
    "df = df[df[\"CNT_FAM_MEMBERS\"] < 8]"
   ]
  },
  {
   "cell_type": "code",
   "execution_count": null,
   "id": "ca44f0e2",
   "metadata": {},
   "outputs": [],
   "source": [
    "# Plotting Post Removal Of Outlier\n",
    "\n",
    "fig,ax = plt.subplots(nrows=2,ncols=3,figsize=(14,6))\n",
    "sns.scatterplot(x=\"ID\",y=\"CNT_CHILDREN\",data=df,ax=ax[0][0],color=\"orange\")\n",
    "sns.scatterplot(x=\"ID\",y=\"AMT_INCOME_TOTAL\",data=df,ax=ax[0][1],color=\"orange\")\n",
    "sns.scatterplot(x=\"ID\",y=\"DAYS_BIRTH\",data=df,ax=ax[0][2])\n",
    "sns.scatterplot(x=\"ID\",y=\"DAYS_EMPLOYED\",data=df,ax=ax[1][0])\n",
    "sns.scatterplot(x=\"ID\",y=\"CNT_FAM_MEMBERS\",data=df,ax=ax[1][1],color=\"orange\")"
   ]
  },
  {
   "cell_type": "code",
   "execution_count": null,
   "id": "ec5a31e8",
   "metadata": {},
   "outputs": [],
   "source": [
    "# Train Test Split\n",
    "\n",
    "Y = df[\"STATUS\"]\n",
    "X = df.drop(\"STATUS\",axis=1)"
   ]
  },
  {
   "cell_type": "code",
   "execution_count": null,
   "id": "a776baab",
   "metadata": {},
   "outputs": [],
   "source": [
    "# Split The Data Into Training And Testing\n",
    "\n",
    "X_train,X_test,Y_train,Y_test = train_test_split(X,Y,test_size=0.2)\n",
    "mms = MinMaxScaler()\n",
    "X_scaled = pd.DataFrame(mms.fit_transform(X_train),columns=X_train.columns)\n",
    "sm = SMOTE(random_state=42)\n",
    "X_train_res,Y_train_res = sm.fit_resample(X_scaled,Y_train)"
   ]
  },
  {
   "cell_type": "code",
   "execution_count": null,
   "id": "c36d8f8f",
   "metadata": {},
   "outputs": [],
   "source": [
    "# Checking The Shape Of New Dataset\n",
    "\n",
    "unique,counts = np.unique(Y_train_res,return_counts=True)\n",
    "np.asarray((unique,counts))"
   ]
  },
  {
   "cell_type": "code",
   "execution_count": null,
   "id": "1173157a",
   "metadata": {},
   "outputs": [],
   "source": [
    "# Create DecisionTreeClassifier\n",
    "\n",
    "classifier = DecisionTreeClassifier()\n",
    "model = classifier.fit(X_train_res,Y_train_res)\n",
    "X_test_scaled = mms.transform(X_test)\n",
    "prediction = model.predict(X_test_scaled)"
   ]
  },
  {
   "cell_type": "code",
   "execution_count": null,
   "id": "a1017c1a",
   "metadata": {},
   "outputs": [],
   "source": [
    "# Check Model Performance\n",
    "\n",
    "print(\"Accuracy Score : {:.5}\".format(accuracy_score(Y_test,prediction)))\n",
    "print(pd.DataFrame(confusion_matrix(Y_test,prediction)))"
   ]
  },
  {
   "cell_type": "code",
   "execution_count": null,
   "id": "27065647",
   "metadata": {},
   "outputs": [],
   "source": [
    "# Display Classification Report\n",
    "\n",
    "print(classification_report(Y_test,prediction))"
   ]
  },
  {
   "cell_type": "code",
   "execution_count": null,
   "id": "314bec82",
   "metadata": {},
   "outputs": [],
   "source": [
    "# Display Feature Importance\n",
    "\n",
    "feats = {}\n",
    "for feature,importance in zip(X_train.columns,model.feature_importances_):\n",
    "    feats[feature] = importance\n",
    "importances = pd.DataFrame().from_dict(feats,orient=\"index\").rename(columns={0:\"Gini-Importance\"})\n",
    "importances.sort_values(by=\"Gini-Importance\").plot(kind=\"bar\",rot=90)"
   ]
  }
 ],
 "metadata": {
  "kernelspec": {
   "display_name": "Python 3 (ipykernel)",
   "language": "python",
   "name": "python3"
  },
  "language_info": {
   "codemirror_mode": {
    "name": "ipython",
    "version": 3
   },
   "file_extension": ".py",
   "mimetype": "text/x-python",
   "name": "python",
   "nbconvert_exporter": "python",
   "pygments_lexer": "ipython3",
   "version": "3.11.5"
  }
 },
 "nbformat": 4,
 "nbformat_minor": 5
}
